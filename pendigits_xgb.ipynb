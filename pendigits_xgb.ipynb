{
 "cells": [
  {
   "cell_type": "markdown",
   "metadata": {},
   "source": [
    "## Invoice classification with xgboost"
   ]
  },
  {
   "cell_type": "code",
   "execution_count": 11,
   "metadata": {},
   "outputs": [
    {
     "name": "stdout",
     "output_type": "stream",
     "text": [
      "Libraries Imported\n"
     ]
    }
   ],
   "source": [
    "import numpy as np\n",
    "import pandas as pd\n",
    "import matplotlib.pyplot as plt\n",
    "import seaborn as sns\n",
    "\n",
    "from sklearn.model_selection import train_test_split\n",
    "from sklearn import metrics\n",
    "from sklearn.metrics import confusion_matrix, classification_report\n",
    "\n",
    "from numpy import array\n",
    "from numpy import argmax\n",
    "from sklearn.preprocessing import LabelEncoder\n",
    "from sklearn.preprocessing import OneHotEncoder\n",
    "from xgboost import plot_tree\n",
    "\n",
    "from collections import Counter\n",
    "import pickle\n",
    "import xgboost as xgb\n",
    "import json\n",
    "#from xgboost import cv\n",
    "\n",
    "%matplotlib inline\n",
    "print('Libraries Imported')"
   ]
  },
  {
   "cell_type": "markdown",
   "metadata": {},
   "source": [
    "###  Loading the dataset"
   ]
  },
  {
   "cell_type": "code",
   "execution_count": 14,
   "metadata": {},
   "outputs": [],
   "source": [
    "#helper function to load the dataset and separate features from response, and exclude certain columns\n",
    "def load_dataset(filename, response_col):\n",
    "    # load the dataset as a pandas DataFrame\n",
    "    data =  pd.read_csv(filename ,sep = ',',decimal = ',', encoding = 'unicode_escape', engine ='python')\n",
    "    #rename the response variable as 'response'\n",
    "    data = data.rename(columns={response_col:'response'})\n",
    "    return data"
   ]
  },
  {
   "cell_type": "code",
   "execution_count": 15,
   "metadata": {},
   "outputs": [
    {
     "data": {
      "text/html": [
       "<div>\n",
       "<style scoped>\n",
       "    .dataframe tbody tr th:only-of-type {\n",
       "        vertical-align: middle;\n",
       "    }\n",
       "\n",
       "    .dataframe tbody tr th {\n",
       "        vertical-align: top;\n",
       "    }\n",
       "\n",
       "    .dataframe thead th {\n",
       "        text-align: right;\n",
       "    }\n",
       "</style>\n",
       "<table border=\"1\" class=\"dataframe\">\n",
       "  <thead>\n",
       "    <tr style=\"text-align: right;\">\n",
       "      <th></th>\n",
       "      <th>input1</th>\n",
       "      <th>input2</th>\n",
       "      <th>input3</th>\n",
       "      <th>input4</th>\n",
       "      <th>input5</th>\n",
       "      <th>input6</th>\n",
       "      <th>input7</th>\n",
       "      <th>input8</th>\n",
       "      <th>input9</th>\n",
       "      <th>input10</th>\n",
       "      <th>input11</th>\n",
       "      <th>input12</th>\n",
       "      <th>input13</th>\n",
       "      <th>input14</th>\n",
       "      <th>input15</th>\n",
       "      <th>input16</th>\n",
       "      <th>response</th>\n",
       "    </tr>\n",
       "  </thead>\n",
       "  <tbody>\n",
       "    <tr>\n",
       "      <th>0</th>\n",
       "      <td>47</td>\n",
       "      <td>100</td>\n",
       "      <td>27</td>\n",
       "      <td>81</td>\n",
       "      <td>57</td>\n",
       "      <td>37</td>\n",
       "      <td>26</td>\n",
       "      <td>0</td>\n",
       "      <td>0</td>\n",
       "      <td>23</td>\n",
       "      <td>56</td>\n",
       "      <td>53</td>\n",
       "      <td>100</td>\n",
       "      <td>90</td>\n",
       "      <td>40</td>\n",
       "      <td>98</td>\n",
       "      <td>8</td>\n",
       "    </tr>\n",
       "    <tr>\n",
       "      <th>1</th>\n",
       "      <td>0</td>\n",
       "      <td>89</td>\n",
       "      <td>27</td>\n",
       "      <td>100</td>\n",
       "      <td>42</td>\n",
       "      <td>75</td>\n",
       "      <td>29</td>\n",
       "      <td>45</td>\n",
       "      <td>15</td>\n",
       "      <td>15</td>\n",
       "      <td>37</td>\n",
       "      <td>0</td>\n",
       "      <td>69</td>\n",
       "      <td>2</td>\n",
       "      <td>100</td>\n",
       "      <td>6</td>\n",
       "      <td>2</td>\n",
       "    </tr>\n",
       "    <tr>\n",
       "      <th>2</th>\n",
       "      <td>0</td>\n",
       "      <td>57</td>\n",
       "      <td>31</td>\n",
       "      <td>68</td>\n",
       "      <td>72</td>\n",
       "      <td>90</td>\n",
       "      <td>100</td>\n",
       "      <td>100</td>\n",
       "      <td>76</td>\n",
       "      <td>75</td>\n",
       "      <td>50</td>\n",
       "      <td>51</td>\n",
       "      <td>28</td>\n",
       "      <td>25</td>\n",
       "      <td>16</td>\n",
       "      <td>0</td>\n",
       "      <td>1</td>\n",
       "    </tr>\n",
       "    <tr>\n",
       "      <th>3</th>\n",
       "      <td>0</td>\n",
       "      <td>100</td>\n",
       "      <td>7</td>\n",
       "      <td>92</td>\n",
       "      <td>5</td>\n",
       "      <td>68</td>\n",
       "      <td>19</td>\n",
       "      <td>45</td>\n",
       "      <td>86</td>\n",
       "      <td>34</td>\n",
       "      <td>100</td>\n",
       "      <td>45</td>\n",
       "      <td>74</td>\n",
       "      <td>23</td>\n",
       "      <td>67</td>\n",
       "      <td>0</td>\n",
       "      <td>4</td>\n",
       "    </tr>\n",
       "    <tr>\n",
       "      <th>4</th>\n",
       "      <td>0</td>\n",
       "      <td>67</td>\n",
       "      <td>49</td>\n",
       "      <td>83</td>\n",
       "      <td>100</td>\n",
       "      <td>100</td>\n",
       "      <td>81</td>\n",
       "      <td>80</td>\n",
       "      <td>60</td>\n",
       "      <td>60</td>\n",
       "      <td>40</td>\n",
       "      <td>40</td>\n",
       "      <td>33</td>\n",
       "      <td>20</td>\n",
       "      <td>47</td>\n",
       "      <td>0</td>\n",
       "      <td>1</td>\n",
       "    </tr>\n",
       "  </tbody>\n",
       "</table>\n",
       "</div>"
      ],
      "text/plain": [
       "   input1  input2  input3  input4  input5  input6  input7  input8  input9  \\\n",
       "0      47     100      27      81      57      37      26       0       0   \n",
       "1       0      89      27     100      42      75      29      45      15   \n",
       "2       0      57      31      68      72      90     100     100      76   \n",
       "3       0     100       7      92       5      68      19      45      86   \n",
       "4       0      67      49      83     100     100      81      80      60   \n",
       "\n",
       "   input10  input11  input12  input13  input14  input15  input16  response  \n",
       "0       23       56       53      100       90       40       98         8  \n",
       "1       15       37        0       69        2      100        6         2  \n",
       "2       75       50       51       28       25       16        0         1  \n",
       "3       34      100       45       74       23       67        0         4  \n",
       "4       60       40       40       33       20       47        0         1  "
      ]
     },
     "execution_count": 15,
     "metadata": {},
     "output_type": "execute_result"
    }
   ],
   "source": [
    "data = load_dataset('Scripts/dataset_32_pendigits.csv', 'class')\n",
    "data.head()"
   ]
  },
  {
   "cell_type": "markdown",
   "metadata": {},
   "source": [
    "### Counting the number of samples in each class after removing the classes with less than 20 samples"
   ]
  },
  {
   "cell_type": "code",
   "execution_count": 16,
   "metadata": {
    "scrolled": true
   },
   "outputs": [
    {
     "data": {
      "text/plain": [
       "Counter({8: 1055,\n",
       "         2: 1144,\n",
       "         1: 1143,\n",
       "         4: 1144,\n",
       "         6: 1056,\n",
       "         0: 1143,\n",
       "         5: 1055,\n",
       "         9: 1055,\n",
       "         7: 1142,\n",
       "         3: 1055})"
      ]
     },
     "execution_count": 16,
     "metadata": {},
     "output_type": "execute_result"
    }
   ],
   "source": [
    "#Number of samples in each class\n",
    "Counter(data['response'].values)"
   ]
  },
  {
   "cell_type": "code",
   "execution_count": 17,
   "metadata": {},
   "outputs": [],
   "source": [
    "# split into input (X) and output (y) variables\n",
    "X = data[data.columns.difference(['response'])]\n",
    "y = data.response"
   ]
  },
  {
   "cell_type": "markdown",
   "metadata": {},
   "source": [
    "#### Distribution of the classes is balanced"
   ]
  },
  {
   "cell_type": "code",
   "execution_count": 18,
   "metadata": {},
   "outputs": [
    {
     "data": {
      "text/plain": [
       "<AxesSubplot:ylabel='response'>"
      ]
     },
     "execution_count": 18,
     "metadata": {},
     "output_type": "execute_result"
    },
    {
     "data": {
      "image/png": "[encoded data removed]",
      "text/plain": [
       "<Figure size 720x576 with 1 Axes>"
      ]
     },
     "metadata": {},
     "output_type": "display_data"
    }
   ],
   "source": [
    "#distrib of the response variable\n",
    "fig_size = plt.rcParams[\"figure.figsize\"]\n",
    "fig_size[0] = 10\n",
    "fig_size[1] = 8\n",
    "plt.rcParams[\"figure.figsize\"] = fig_size\n",
    "data.response.value_counts().plot(kind='pie', autopct='%1.0f%%', colors= sns.color_palette(\"Paired\"))"
   ]
  },
  {
   "cell_type": "markdown",
   "metadata": {},
   "source": [
    "### Here The training and validation was split 75-25, then, 2%(54 samples) from the validation set were saved as testing data, to test the model and also use it in the api."
   ]
  },
  {
   "cell_type": "code",
   "execution_count": 19,
   "metadata": {},
   "outputs": [],
   "source": [
    "#split into train, test\n",
    "X_train, X_test, y_train, y_test = train_test_split(X, integers, test_size=0.25, random_state=2)\n",
    "\n",
    "# Split train into test-val for early training stopping and for checking with small sample of new data\n",
    "X_test, X_val, y_test, y_val = train_test_split(X_test, y_test, test_size=0.98, stratify=y_test, random_state=2587)"
   ]
  },
  {
   "cell_type": "code",
   "execution_count": 20,
   "metadata": {},
   "outputs": [
    {
     "name": "stdout",
     "output_type": "stream",
     "text": [
      "(8244, 16) (54, 16) (2694, 16) (8244,) (54,) (2694,)\n"
     ]
    }
   ],
   "source": [
    "y_train =  np.array(y_train, dtype = 'int64')\n",
    "y_val = np.array(y_val, dtype = 'int64')\n",
    "print(X_train.shape, X_test.shape, X_val.shape, y_train.shape, y_test.shape, y_val.shape)"
   ]
  },
  {
   "cell_type": "markdown",
   "metadata": {},
   "source": [
    "### Defining model parameters (not ideal but good enough)"
   ]
  },
  {
   "cell_type": "code",
   "execution_count": 17,
   "metadata": {},
   "outputs": [],
   "source": [
    "#params were chosen experimentally after performing a few tests on a \n",
    "#subset of 1000 samples. (may not be the best params)\n",
    "\n",
    "params = { 'eta' : 0.1,#eta between(0.01-0.2)\n",
    "            'max_depth' : 4, #values between(3-10)\n",
    "            'max_delta_step' : 0.5,\n",
    "            'subsample' : 0.7,#values between(0.5-1)\n",
    "            'colsample_bytree' : 0.5,#values between(0.5-1)\n",
    "            'tree_method' : \"auto\",\n",
    "            'alpha': 0.2,\n",
    "            'lambda' : 1,\n",
    "            'process_type' : \"default\",\n",
    "            'num_parallel_tree': 1,\n",
    "            'objective': 'multi:softmax',\n",
    "            'min_child_weight' : 1,\n",
    "            'booster': 'gbtree',\n",
    "            'sample_type' : \"uniform\",\n",
    "            'eval_metric' : \"merror\",\n",
    "            'num_class' : 63}\n"
   ]
  },
  {
   "cell_type": "markdown",
   "metadata": {},
   "source": [
    "### Training the model using the validation set for early stopping (NOT cross validation)"
   ]
  },
  {
   "cell_type": "code",
   "execution_count": 18,
   "metadata": {},
   "outputs": [
    {
     "name": "stdout",
     "output_type": "stream",
     "text": [
      "[0]\tvalidation_0-merror:0.06051\n",
      "[1]\tvalidation_0-merror:0.04157\n",
      "[2]\tvalidation_0-merror:0.03266\n",
      "[3]\tvalidation_0-merror:0.02858\n",
      "[4]\tvalidation_0-merror:0.02338\n",
      "[5]\tvalidation_0-merror:0.02153\n"
     ]
    },
    {
     "name": "stderr",
     "output_type": "stream",
     "text": [
      "C:\\Users\\ostoices\\anaconda3\\lib\\site-packages\\xgboost\\core.py:416: FutureWarning: Pass `objective` as keyword args.  Passing these as positional arguments will be considered as error in future releases.\n",
      "  warnings.warn(\n"
     ]
    },
    {
     "name": "stdout",
     "output_type": "stream",
     "text": [
      "[6]\tvalidation_0-merror:0.01930\n",
      "[7]\tvalidation_0-merror:0.01745\n",
      "[8]\tvalidation_0-merror:0.01670\n",
      "[9]\tvalidation_0-merror:0.01522\n",
      "[10]\tvalidation_0-merror:0.01485\n",
      "[11]\tvalidation_0-merror:0.01336\n",
      "[12]\tvalidation_0-merror:0.01262\n",
      "[13]\tvalidation_0-merror:0.01188\n",
      "[14]\tvalidation_0-merror:0.01039\n",
      "[15]\tvalidation_0-merror:0.00965\n",
      "[16]\tvalidation_0-merror:0.00965\n",
      "[17]\tvalidation_0-merror:0.01002\n",
      "[18]\tvalidation_0-merror:0.01002\n",
      "[19]\tvalidation_0-merror:0.00965\n",
      "[20]\tvalidation_0-merror:0.00928\n",
      "[21]\tvalidation_0-merror:0.00928\n",
      "[22]\tvalidation_0-merror:0.00928\n",
      "[23]\tvalidation_0-merror:0.00928\n",
      "[24]\tvalidation_0-merror:0.00928\n",
      "[25]\tvalidation_0-merror:0.01002\n",
      "[26]\tvalidation_0-merror:0.00928\n",
      "[27]\tvalidation_0-merror:0.00817\n",
      "[28]\tvalidation_0-merror:0.00854\n",
      "[29]\tvalidation_0-merror:0.00817\n",
      "[30]\tvalidation_0-merror:0.00854\n",
      "[31]\tvalidation_0-merror:0.00817\n",
      "[32]\tvalidation_0-merror:0.00779\n",
      "[33]\tvalidation_0-merror:0.00742\n",
      "[34]\tvalidation_0-merror:0.00742\n",
      "[35]\tvalidation_0-merror:0.00779\n",
      "[36]\tvalidation_0-merror:0.00742\n",
      "[37]\tvalidation_0-merror:0.00817\n",
      "[38]\tvalidation_0-merror:0.00817\n",
      "[39]\tvalidation_0-merror:0.00779\n",
      "[40]\tvalidation_0-merror:0.00817\n",
      "[41]\tvalidation_0-merror:0.00817\n",
      "[42]\tvalidation_0-merror:0.00817\n",
      "[43]\tvalidation_0-merror:0.00817\n"
     ]
    },
    {
     "data": {
      "text/plain": [
       "XGBClassifier(base_score=0.5, booster='gbtree', colsample_bylevel=1,\n",
       "              colsample_bynode=1, colsample_bytree=1, gamma=0, gpu_id=-1,\n",
       "              importance_type='gain', interaction_constraints='',\n",
       "              learning_rate=0.300000012, max_delta_step=0, max_depth=6,\n",
       "              min_child_weight=1, missing=nan, monotone_constraints='()',\n",
       "              n_estimators=100, n_jobs=4, num_parallel_tree=1,\n",
       "              objective='multi:softprob', random_state=0, reg_alpha=0,\n",
       "              reg_lambda=1, scale_pos_weight=None, subsample=1,\n",
       "              tree_method='exact', use_label_encoder=False,\n",
       "              validate_parameters=1, verbosity=None)"
      ]
     },
     "execution_count": 18,
     "metadata": {},
     "output_type": "execute_result"
    }
   ],
   "source": [
    "#Xgb\n",
    "from xgboost import XGBClassifier\n",
    "model=XGBClassifier(params,use_label_encoder=False)\n",
    "model.fit(X_train,y_train, eval_set = [(X_val, y_val)], verbose = True, early_stopping_rounds=10, eval_metric='merror')"
   ]
  },
  {
   "cell_type": "markdown",
   "metadata": {},
   "source": [
    "#### Accuracy on the training set"
   ]
  },
  {
   "cell_type": "code",
   "execution_count": 19,
   "metadata": {},
   "outputs": [
    {
     "name": "stdout",
     "output_type": "stream",
     "text": [
      "100.0\n"
     ]
    }
   ],
   "source": [
    "xgb_pred_train = model.predict(X_train)\n",
    "print(metrics.accuracy_score(y_train, xgb_pred_train)*100)"
   ]
  },
  {
   "cell_type": "markdown",
   "metadata": {},
   "source": [
    "#### Accuracy on the validation set"
   ]
  },
  {
   "cell_type": "code",
   "execution_count": 20,
   "metadata": {},
   "outputs": [
    {
     "name": "stdout",
     "output_type": "stream",
     "text": [
      "99.25760950259837\n"
     ]
    }
   ],
   "source": [
    "xgb_pred_val = model.predict(X_val)\n",
    "print(metrics.accuracy_score(y_val, xgb_pred_val)*100)"
   ]
  },
  {
   "cell_type": "markdown",
   "metadata": {},
   "source": [
    "### Confusion matrix on the validation set"
   ]
  },
  {
   "cell_type": "code",
   "execution_count": 21,
   "metadata": {},
   "outputs": [
    {
     "data": {
      "text/plain": [
       "<AxesSubplot:>"
      ]
     },
     "execution_count": 21,
     "metadata": {},
     "output_type": "execute_result"
    },
    {
     "data": {
      "image/png": "[encoded data removed]",
      "text/plain": [
       "<Figure size 1296x1296 with 2 Axes>"
      ]
     },
     "metadata": {
      "needs_background": "light"
     },
     "output_type": "display_data"
    }
   ],
   "source": [
    "plt.rcParams[\"figure.figsize\"] = (2^16, 2^16)\n",
    "#confusion matrix\n",
    "confusion_matrix_xgb = pd.DataFrame(confusion_matrix(y_val, xgb_pred_val))\n",
    "\n",
    "sns.heatmap(confusion_matrix_xgb, annot=True)"
   ]
  },
  {
   "cell_type": "markdown",
   "metadata": {},
   "source": [
    "#### A small sample of the model's output vs true labels"
   ]
  },
  {
   "cell_type": "code",
   "execution_count": 22,
   "metadata": {},
   "outputs": [
    {
     "name": "stdout",
     "output_type": "stream",
     "text": [
      "[7 2 3 8 0 6 5 7 0 1]\n",
      "[7 1 3 8 0 6 5 7 0 1]\n"
     ]
    }
   ],
   "source": [
    "print (xgb_pred_val [0:10])\n",
    "print (y_val [0:10])"
   ]
  },
  {
   "cell_type": "markdown",
   "metadata": {},
   "source": [
    "### Detailed performance measures on the validation set"
   ]
  },
  {
   "cell_type": "code",
   "execution_count": 23,
   "metadata": {},
   "outputs": [
    {
     "name": "stdout",
     "output_type": "stream",
     "text": [
      "              precision    recall  f1-score   support\n",
      "\n",
      "           0       1.00      1.00      1.00       275\n",
      "           1       1.00      0.98      0.99       295\n",
      "           2       0.99      1.00      0.99       276\n",
      "           3       0.99      1.00      0.99       274\n",
      "           4       1.00      1.00      1.00       265\n",
      "           5       1.00      0.98      0.99       260\n",
      "           6       1.00      1.00      1.00       257\n",
      "           7       0.99      0.99      0.99       269\n",
      "           8       1.00      0.98      0.99       239\n",
      "           9       0.98      1.00      0.99       284\n",
      "\n",
      "    accuracy                           0.99      2694\n",
      "   macro avg       0.99      0.99      0.99      2694\n",
      "weighted avg       0.99      0.99      0.99      2694\n",
      "\n"
     ]
    }
   ],
   "source": [
    "print(classification_report(y_val, xgb_pred_val))"
   ]
  },
  {
   "cell_type": "markdown",
   "metadata": {},
   "source": [
    "## Test the model on new data"
   ]
  },
  {
   "cell_type": "markdown",
   "metadata": {},
   "source": [
    "#### Make predictions on the test set"
   ]
  },
  {
   "cell_type": "code",
   "execution_count": 24,
   "metadata": {},
   "outputs": [
    {
     "name": "stdout",
     "output_type": "stream",
     "text": [
      "100.0\n"
     ]
    }
   ],
   "source": [
    "#test on new data\n",
    "xgb_pred_test = model.predict(X_test)\n",
    "print(metrics.accuracy_score(y_test, xgb_pred_test)*100)"
   ]
  },
  {
   "cell_type": "markdown",
   "metadata": {},
   "source": [
    "#### View predicted labels vs real labels"
   ]
  },
  {
   "cell_type": "code",
   "execution_count": 29,
   "metadata": {},
   "outputs": [
    {
     "name": "stdout",
     "output_type": "stream",
     "text": [
      "Predicted Labels\n",
      "[6 2 2 0 8 8 7 7 7 5]\n",
      "Real Labels\n",
      "[6 2 2 0 8 8 7 7 7 5]\n"
     ]
    }
   ],
   "source": [
    "#check first 10 predicted vs test\n",
    "print(\"Predicted Labels\")\n",
    "print (xgb_pred_test[0:10])\n",
    "y_test = np.array(y_test)\n",
    "print(\"Real Labels\")\n",
    "print (y_test[0:10])"
   ]
  },
  {
   "cell_type": "markdown",
   "metadata": {},
   "source": [
    "### Test set confusion matrix"
   ]
  },
  {
   "cell_type": "code",
   "execution_count": 30,
   "metadata": {},
   "outputs": [
    {
     "data": {
      "text/plain": [
       "<AxesSubplot:>"
      ]
     },
     "execution_count": 30,
     "metadata": {},
     "output_type": "execute_result"
    },
    {
     "data": {
      "image/png": "[encoded data removed]",
      "text/plain": [
       "<Figure size 1296x1296 with 2 Axes>"
      ]
     },
     "metadata": {
      "needs_background": "light"
     },
     "output_type": "display_data"
    }
   ],
   "source": [
    "plt.rcParams[\"figure.figsize\"] = (2^16, 2^16)\n",
    "#confusion matrix\n",
    "confusion_matrix_xgb = pd.DataFrame(confusion_matrix(y_test, xgb_pred_test))\n",
    "\n",
    "sns.heatmap(confusion_matrix_xgb, annot=True)"
   ]
  },
  {
   "cell_type": "code",
   "execution_count": 22,
   "metadata": {},
   "outputs": [
    {
     "name": "stdout",
     "output_type": "stream",
     "text": [
      "{'input1': 100, 'input10': 7, 'input11': 80, 'input12': 0, 'input13': 80, 'input14': 24, 'input15': 26, 'input16': 26, 'input2': 100, 'input3': 46, 'input4': 89, 'input5': 13, 'input6': 64, 'input7': 0, 'input8': 34, 'input9': 25}\n",
      "{'input1': 0, 'input10': 1, 'input11': 1, 'input12': 0, 'input13': 51, 'input14': 15, 'input15': 100, 'input16': 0, 'input2': 86, 'input3': 39, 'input4': 100, 'input5': 51, 'input6': 66, 'input7': 35, 'input8': 32, 'input9': 8}\n",
      "{'input1': 36, 'input10': 20, 'input11': 12, 'input12': 8, 'input13': 56, 'input14': 6, 'input15': 100, 'input16': 0, 'input2': 100, 'input3': 60, 'input4': 100, 'input5': 57, 'input6': 68, 'input7': 33, 'input8': 41, 'input9': 0}\n",
      "{'input1': 43, 'input10': 22, 'input11': 100, 'input12': 67, 'input13': 68, 'input14': 100, 'input15': 21, 'input16': 97, 'input2': 91, 'input3': 9, 'input4': 59, 'input5': 0, 'input6': 14, 'input7': 43, 'input8': 0, 'input9': 85}\n",
      "{'input1': 0, 'input10': 34, 'input11': 68, 'input12': 67, 'input13': 100, 'input14': 100, 'input15': 53, 'input16': 95, 'input2': 89, 'input3': 44, 'input4': 66, 'input5': 63, 'input6': 30, 'input7': 36, 'input8': 0, 'input9': 34}\n",
      "{'input1': 100, 'input10': 0, 'input11': 36, 'input12': 12, 'input13': 68, 'input14': 51, 'input15': 92, 'input16': 85, 'input2': 82, 'input3': 51, 'input4': 100, 'input5': 0, 'input6': 72, 'input7': 56, 'input8': 37, 'input9': 78}\n",
      "{'input1': 0, 'input10': 1, 'input11': 25, 'input12': 0, 'input13': 21, 'input14': 23, 'input15': 88, 'input16': 25, 'input2': 99, 'input3': 66, 'input4': 100, 'input5': 100, 'input6': 79, 'input7': 68, 'input8': 41, 'input9': 48}\n",
      "{'input1': 0, 'input10': 16, 'input11': 55, 'input12': 0, 'input13': 20, 'input14': 29, 'input15': 82, 'input16': 39, 'input2': 89, 'input3': 50, 'input4': 100, 'input5': 100, 'input6': 89, 'input7': 77, 'input8': 53, 'input9': 53}\n",
      "{'input1': 0, 'input10': 0, 'input11': 8, 'input12': 36, 'input13': 53, 'input14': 43, 'input15': 100, 'input16': 47, 'input2': 99, 'input3': 39, 'input4': 100, 'input5': 65, 'input6': 72, 'input7': 49, 'input8': 30, 'input9': 23}\n",
      "{'input1': 27, 'input10': 0, 'input11': 0, 'input12': 50, 'input13': 24, 'input14': 95, 'input15': 100, 'input16': 100, 'input2': 85, 'input3': 4, 'input4': 57, 'input5': 60, 'input6': 58, 'input7': 65, 'input8': 18, 'input9': 1}\n",
      "{'input1': 100, 'input10': 7, 'input11': 53, 'input12': 53, 'input13': 80, 'input14': 100, 'input15': 3, 'input16': 78, 'input2': 89, 'input3': 40, 'input4': 83, 'input5': 63, 'input6': 40, 'input7': 84, 'input8': 0, 'input9': 0}\n",
      "{'input1': 0, 'input10': 32, 'input11': 11, 'input12': 0, 'input13': 7, 'input14': 4, 'input15': 100, 'input16': 4, 'input2': 55, 'input3': 41, 'input4': 80, 'input5': 62, 'input6': 100, 'input7': 48, 'input8': 66, 'input9': 35}\n",
      "{'input1': 58, 'input10': 0, 'input11': 100, 'input12': 20, 'input13': 96, 'input14': 61, 'input15': 64, 'input16': 96, 'input2': 100, 'input3': 18, 'input4': 84, 'input5': 0, 'input6': 41, 'input7': 11, 'input8': 0, 'input9': 58}\n",
      "{'input1': 42, 'input10': 48, 'input11': 86, 'input12': 92, 'input13': 34, 'input14': 100, 'input15': 0, 'input16': 63, 'input2': 86, 'input3': 24, 'input4': 44, 'input5': 36, 'input6': 0, 'input7': 82, 'input8': 3, 'input9': 100}\n",
      "{'input1': 43, 'input10': 73, 'input11': 80, 'input12': 60, 'input13': 50, 'input14': 30, 'input15': 19, 'input16': 0, 'input2': 100, 'input3': 27, 'input4': 92, 'input5': 0, 'input6': 62, 'input7': 53, 'input8': 53, 'input9': 100}\n",
      "{'input1': 15, 'input10': 62, 'input11': 86, 'input12': 100, 'input13': 37, 'input14': 90, 'input15': 3, 'input16': 57, 'input2': 67, 'input3': 0, 'input4': 24, 'input5': 32, 'input6': 0, 'input7': 76, 'input8': 24, 'input9': 100}\n",
      "{'input1': 42, 'input10': 83, 'input11': 75, 'input12': 61, 'input13': 60, 'input14': 31, 'input15': 49, 'input16': 0, 'input2': 100, 'input3': 0, 'input4': 79, 'input5': 24, 'input6': 56, 'input7': 91, 'input8': 58, 'input9': 100}\n",
      "{'input1': 95, 'input10': 9, 'input11': 62, 'input12': 0, 'input13': 100, 'input14': 18, 'input15': 40, 'input16': 27, 'input2': 100, 'input3': 52, 'input4': 79, 'input5': 20, 'input6': 57, 'input7': 0, 'input8': 34, 'input9': 5}\n",
      "{'input1': 0, 'input10': 42, 'input11': 100, 'input12': 16, 'input13': 58, 'input14': 1, 'input15': 8, 'input16': 0, 'input2': 86, 'input3': 41, 'input4': 100, 'input5': 77, 'input6': 86, 'input7': 58, 'input8': 58, 'input9': 98}\n",
      "{'input1': 35, 'input10': 48, 'input11': 91, 'input12': 58, 'input13': 84, 'input14': 29, 'input15': 74, 'input16': 0, 'input2': 100, 'input3': 26, 'input4': 74, 'input5': 0, 'input6': 47, 'input7': 54, 'input8': 38, 'input9': 100}\n",
      "{'input1': 39, 'input10': 45, 'input11': 100, 'input12': 67, 'input13': 78, 'input14': 33, 'input15': 57, 'input16': 0, 'input2': 100, 'input3': 10, 'input4': 76, 'input5': 0, 'input6': 41, 'input7': 52, 'input8': 25, 'input9': 89}\n",
      "{'input1': 0, 'input10': 32, 'input11': 26, 'input12': 0, 'input13': 45, 'input14': 1, 'input15': 100, 'input16': 0, 'input2': 76, 'input3': 32, 'input4': 90, 'input5': 43, 'input6': 100, 'input7': 45, 'input8': 66, 'input9': 43}\n",
      "{'input1': 64, 'input10': 75, 'input11': 100, 'input12': 83, 'input13': 83, 'input14': 41, 'input15': 44, 'input16': 0, 'input2': 93, 'input3': 0, 'input4': 72, 'input5': 81, 'input6': 70, 'input7': 75, 'input8': 100, 'input9': 8}\n",
      "{'input1': 80, 'input10': 74, 'input11': 74, 'input12': 45, 'input13': 44, 'input14': 20, 'input15': 0, 'input16': 0, 'input2': 100, 'input3': 34, 'input4': 87, 'input5': 69, 'input6': 69, 'input7': 100, 'input8': 90, 'input9': 81}\n",
      "{'input1': 34, 'input10': 32, 'input11': 0, 'input12': 3, 'input13': 47, 'input14': 0, 'input15': 100, 'input16': 7, 'input2': 69, 'input3': 23, 'input4': 100, 'input5': 65, 'input6': 98, 'input7': 58, 'input8': 63, 'input9': 32}\n",
      "{'input1': 16, 'input10': 32, 'input11': 6, 'input12': 0, 'input13': 0, 'input14': 32, 'input15': 56, 'input16': 35, 'input2': 95, 'input3': 46, 'input4': 100, 'input5': 100, 'input6': 95, 'input7': 72, 'input8': 63, 'input9': 39}\n",
      "{'input1': 96, 'input10': 75, 'input11': 78, 'input12': 47, 'input13': 45, 'input14': 21, 'input15': 0, 'input16': 0, 'input2': 84, 'input3': 49, 'input4': 76, 'input5': 12, 'input6': 91, 'input7': 74, 'input8': 100, 'input9': 100}\n",
      "{'input1': 46, 'input10': 35, 'input11': 78, 'input12': 64, 'input13': 100, 'input14': 97, 'input15': 29, 'input16': 100, 'input2': 79, 'input3': 37, 'input4': 60, 'input5': 59, 'input6': 22, 'input7': 0, 'input8': 0, 'input9': 19}\n",
      "{'input1': 65, 'input10': 0, 'input11': 100, 'input12': 12, 'input13': 58, 'input14': 24, 'input15': 5, 'input16': 13, 'input2': 100, 'input3': 28, 'input4': 74, 'input5': 0, 'input6': 45, 'input7': 0, 'input8': 13, 'input9': 50}\n",
      "{'input1': 0, 'input10': 89, 'input11': 47, 'input12': 69, 'input13': 55, 'input14': 36, 'input15': 51, 'input16': 0, 'input2': 69, 'input3': 52, 'input4': 60, 'input5': 100, 'input6': 77, 'input7': 74, 'input8': 100, 'input9': 23}\n",
      "{'input1': 41, 'input10': 34, 'input11': 82, 'input12': 5, 'input13': 41, 'input14': 0, 'input15': 0, 'input16': 9, 'input2': 78, 'input3': 68, 'input4': 100, 'input5': 78, 'input6': 83, 'input7': 70, 'input8': 57, 'input9': 100}\n",
      "{'input1': 98, 'input10': 0, 'input11': 100, 'input12': 22, 'input13': 39, 'input14': 31, 'input15': 7, 'input16': 4, 'input2': 100, 'input3': 40, 'input4': 87, 'input5': 9, 'input6': 55, 'input7': 0, 'input8': 21, 'input9': 47}\n",
      "{'input1': 44, 'input10': 60, 'input11': 74, 'input12': 42, 'input13': 51, 'input14': 14, 'input15': 0, 'input16': 0, 'input2': 92, 'input3': 100, 'input4': 100, 'input5': 57, 'input6': 98, 'input7': 11, 'input8': 79, 'input9': 28}\n",
      "{'input1': 1, 'input10': 34, 'input11': 0, 'input12': 4, 'input13': 50, 'input14': 0, 'input15': 100, 'input16': 0, 'input2': 73, 'input3': 29, 'input4': 100, 'input5': 74, 'input6': 97, 'input7': 56, 'input8': 63, 'input9': 21}\n",
      "{'input1': 95, 'input10': 90, 'input11': 80, 'input12': 59, 'input13': 56, 'input14': 29, 'input15': 58, 'input16': 0, 'input2': 100, 'input3': 16, 'input4': 90, 'input5': 0, 'input6': 62, 'input7': 84, 'input8': 68, 'input9': 100}\n",
      "{'input1': 55, 'input10': 21, 'input11': 56, 'input12': 55, 'input13': 100, 'input14': 92, 'input15': 25, 'input16': 100, 'input2': 92, 'input3': 17, 'input4': 78, 'input5': 55, 'input6': 38, 'input7': 50, 'input8': 0, 'input9': 0}\n",
      "{'input1': 0, 'input10': 65, 'input11': 70, 'input12': 39, 'input13': 55, 'input14': 14, 'input15': 49, 'input16': 0, 'input2': 65, 'input3': 37, 'input4': 82, 'input5': 82, 'input6': 100, 'input7': 100, 'input8': 90, 'input9': 86}\n",
      "{'input1': 12, 'input10': 35, 'input11': 0, 'input12': 10, 'input13': 29, 'input14': 3, 'input15': 100, 'input16': 0, 'input2': 69, 'input3': 19, 'input4': 100, 'input5': 78, 'input6': 99, 'input7': 83, 'input8': 66, 'input9': 47}\n",
      "{'input1': 0, 'input10': 75, 'input11': 75, 'input12': 50, 'input13': 65, 'input14': 25, 'input15': 65, 'input16': 0, 'input2': 41, 'input3': 40, 'input4': 58, 'input5': 74, 'input6': 80, 'input7': 100, 'input8': 100, 'input9': 88}\n",
      "{'input1': 37, 'input10': 16, 'input11': 30, 'input12': 0, 'input13': 66, 'input14': 2, 'input15': 100, 'input16': 19, 'input2': 82, 'input3': 57, 'input4': 100, 'input5': 53, 'input6': 65, 'input7': 30, 'input8': 36, 'input9': 0}\n",
      "{'input1': 53, 'input10': 64, 'input11': 98, 'input12': 32, 'input13': 60, 'input14': 0, 'input15': 0, 'input16': 1, 'input2': 91, 'input3': 100, 'input4': 100, 'input5': 86, 'input6': 100, 'input7': 28, 'input8': 86, 'input9': 58}\n",
      "{'input1': 74, 'input10': 33, 'input11': 100, 'input12': 62, 'input13': 61, 'input14': 35, 'input15': 48, 'input16': 0, 'input2': 100, 'input3': 36, 'input4': 82, 'input5': 0, 'input6': 53, 'input7': 25, 'input8': 31, 'input9': 85}\n",
      "{'input1': 0, 'input10': 78, 'input11': 72, 'input12': 51, 'input13': 45, 'input14': 24, 'input15': 33, 'input16': 0, 'input2': 45, 'input3': 0, 'input4': 61, 'input5': 48, 'input6': 82, 'input7': 100, 'input8': 100, 'input9': 97}\n",
      "{'input1': 31, 'input10': 23, 'input11': 100, 'input12': 62, 'input13': 85, 'input14': 99, 'input15': 31, 'input16': 93, 'input2': 100, 'input3': 1, 'input4': 70, 'input5': 0, 'input6': 29, 'input7': 35, 'input8': 0, 'input9': 82}\n",
      "{'input1': 39, 'input10': 36, 'input11': 84, 'input12': 7, 'input13': 40, 'input14': 0, 'input15': 0, 'input16': 16, 'input2': 80, 'input3': 72, 'input4': 100, 'input5': 100, 'input6': 85, 'input7': 71, 'input8': 60, 'input9': 89}\n",
      "{'input1': 26, 'input10': 30, 'input11': 100, 'input12': 75, 'input13': 59, 'input14': 100, 'input15': 12, 'input16': 82, 'input2': 65, 'input3': 0, 'input4': 46, 'input5': 4, 'input6': 1, 'input7': 54, 'input8': 0, 'input9': 95}\n",
      "{'input1': 0, 'input10': 6, 'input11': 34, 'input12': 0, 'input13': 36, 'input14': 25, 'input15': 100, 'input16': 36, 'input2': 96, 'input3': 54, 'input4': 100, 'input5': 99, 'input6': 80, 'input7': 86, 'input8': 42, 'input9': 67}\n",
      "{'input1': 53, 'input10': 70, 'input11': 100, 'input12': 57, 'input13': 81, 'input14': 28, 'input15': 54, 'input16': 0, 'input2': 60, 'input3': 85, 'input4': 83, 'input5': 48, 'input6': 100, 'input7': 0, 'input8': 79, 'input9': 46}\n",
      "{'input1': 48, 'input10': 70, 'input11': 73, 'input12': 35, 'input13': 48, 'input14': 0, 'input15': 0, 'input16': 19, 'input2': 95, 'input3': 100, 'input4': 100, 'input5': 100, 'input6': 92, 'input7': 47, 'input8': 85, 'input9': 34}\n",
      "{'input1': 0, 'input10': 48, 'input11': 100, 'input12': 30, 'input13': 87, 'input14': 12, 'input15': 53, 'input16': 0, 'input2': 100, 'input3': 45, 'input4': 100, 'input5': 68, 'input6': 83, 'input7': 76, 'input8': 66, 'input9': 89}\n",
      "{'input1': 23, 'input10': 26, 'input11': 0, 'input12': 0, 'input13': 49, 'input14': 6, 'input15': 100, 'input16': 7, 'input2': 73, 'input3': 45, 'input4': 100, 'input5': 46, 'input6': 89, 'input7': 40, 'input8': 57, 'input9': 28}\n",
      "{'input1': 0, 'input10': 44, 'input11': 100, 'input12': 14, 'input13': 62, 'input14': 0, 'input15': 20, 'input16': 6, 'input2': 86, 'input3': 33, 'input4': 100, 'input5': 60, 'input6': 81, 'input7': 58, 'input8': 59, 'input9': 96}\n",
      "{'input1': 7, 'input10': 13, 'input11': 0, 'input12': 56, 'input13': 16, 'input14': 94, 'input15': 100, 'input16': 100, 'input2': 91, 'input3': 6, 'input4': 50, 'input5': 71, 'input6': 40, 'input7': 74, 'input8': 0, 'input9': 12}\n",
      "{'input1': 100, 'input10': 10, 'input11': 51, 'input12': 0, 'input13': 62, 'input14': 15, 'input15': 3, 'input16': 17, 'input2': 100, 'input3': 70, 'input4': 86, 'input5': 32, 'input6': 63, 'input7': 5, 'input8': 37, 'input9': 0}\n"
     ]
    }
   ],
   "source": [
    "for jdict in X_test.to_dict(orient='records'):\n",
    "    print(jdict)"
   ]
  },
  {
   "cell_type": "code",
   "execution_count": 25,
   "metadata": {},
   "outputs": [
    {
     "data": {
      "text/plain": [
       "8244     6\n",
       "5880     2\n",
       "6953     2\n",
       "5583     0\n",
       "10768    8\n",
       "10698    8\n",
       "2998     7\n",
       "6899     7\n",
       "3625     7\n",
       "2394     5\n",
       "120      8\n",
       "7447     1\n",
       "4454     0\n",
       "10811    0\n",
       "6048     4\n",
       "2325     0\n",
       "6630     4\n",
       "10704    6\n",
       "9453     3\n",
       "1351     4\n",
       "9003     4\n",
       "10667    1\n",
       "2965     9\n",
       "1797     9\n",
       "4706     2\n",
       "3408     7\n",
       "4773     9\n",
       "1525     8\n",
       "6498     6\n",
       "3144     9\n",
       "5953     3\n",
       "7417     6\n",
       "3992     5\n",
       "7450     2\n",
       "4510     9\n",
       "1591     8\n",
       "454      1\n",
       "3333     2\n",
       "6742     1\n",
       "9321     2\n",
       "831      5\n",
       "6367     4\n",
       "249      1\n",
       "9196     0\n",
       "8346     3\n",
       "2125     0\n",
       "9581     7\n",
       "2861     9\n",
       "10612    5\n",
       "10122    3\n",
       "8858     1\n",
       "1583     3\n",
       "7318     5\n",
       "6715     6\n",
       "dtype: int8"
      ]
     },
     "execution_count": 25,
     "metadata": {},
     "output_type": "execute_result"
    }
   ],
   "source": [
    "y_test"
   ]
  }
 ],
 "metadata": {
  "kernelspec": {
   "display_name": "Python 3",
   "language": "python",
   "name": "python3"
  },
  "language_info": {
   "codemirror_mode": {
    "name": "ipython",
    "version": 3
   },
   "file_extension": ".py",
   "mimetype": "text/x-python",
   "name": "python",
   "nbconvert_exporter": "python",
   "pygments_lexer": "ipython3",
   "version": "3.8.5"
  }
 },
 "nbformat": 4,
 "nbformat_minor": 4
}
